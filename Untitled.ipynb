{
 "cells": [
  {
   "cell_type": "code",
   "execution_count": 1,
   "id": "2b6699f3",
   "metadata": {},
   "outputs": [],
   "source": [
    "import numpy as np"
   ]
  },
  {
   "cell_type": "code",
   "execution_count": null,
   "id": "a8af092e",
   "metadata": {},
   "outputs": [],
   "source": []
  },
  {
   "cell_type": "code",
   "execution_count": null,
   "id": "042046c8",
   "metadata": {},
   "outputs": [],
   "source": []
  },
  {
   "cell_type": "code",
   "execution_count": 2,
   "id": "0843f9d4",
   "metadata": {},
   "outputs": [],
   "source": [
    "# 1.0; complex ev exists\n",
    "lis=[\n",
    "    # Z, Z1\n",
    "    [-4.062500000000000e+00, -6.875000000000000e-01],\n",
    "    [4.375000000000000e+00, 1.562500000000000e+00],\n",
    "    [4.375000000000000e+00, 1.562500000000000e+00],\n",
    "    [4.375000000000000e+00, 1.562500000000000e+00],\n",
    "]"
   ]
  },
  {
   "cell_type": "code",
   "execution_count": 12,
   "id": "b211fe3d",
   "metadata": {},
   "outputs": [],
   "source": [
    "# crit; zero ev exists\n",
    "lis=[\n",
    "    # Z, Z1\n",
    "    [7.355227538141662e-16, 6.666666666666669e-01],\n",
    "    [1.481481481481481e+00, 1.111111111111111e+00],\n",
    "    [1.481481481481481e+00, 1.111111111111111e+00],\n",
    "    [1.481481481481481e+00, 1.111111111111111e+00],\n",
    "]"
   ]
  },
  {
   "cell_type": "code",
   "execution_count": 4,
   "id": "16b126d8",
   "metadata": {},
   "outputs": [],
   "source": [
    "# 0.5; ev all real\n",
    "lis=[\n",
    "    # Z, Z1\n",
    "    [6.835937500000000e-01, 8.945312500000000e-01],\n",
    "    [1.131835937500000e+00, 1.035156250000000e+00],\n",
    "    [1.131835937500000e+00, 1.035156250000000e+00],\n",
    "    [1.131835937500000e+00, 1.035156250000000e+00],\n",
    "]"
   ]
  },
  {
   "cell_type": "code",
   "execution_count": null,
   "id": "1e4c69a1",
   "metadata": {},
   "outputs": [],
   "source": []
  },
  {
   "cell_type": "code",
   "execution_count": 37,
   "id": "c4b61da2",
   "metadata": {},
   "outputs": [],
   "source": [
    "numer = -lis[0][1] + lis[1][1] + lis[2][1] + lis[3][1]\n",
    "denom = -lis[0][0] + lis[1][0] + lis[2][0] + lis[3][0]"
   ]
  },
  {
   "cell_type": "code",
   "execution_count": 38,
   "id": "96a06b72",
   "metadata": {},
   "outputs": [
    {
     "data": {
      "text/plain": [
       "-0.3999999999999998"
      ]
     },
     "execution_count": 38,
     "metadata": {},
     "output_type": "execute_result"
    }
   ],
   "source": [
    "numer/denom - 1.0"
   ]
  },
  {
   "cell_type": "code",
   "execution_count": 39,
   "id": "50ed8cd1",
   "metadata": {},
   "outputs": [
    {
     "data": {
      "text/plain": [
       "2.222222222222221"
      ]
     },
     "execution_count": 39,
     "metadata": {},
     "output_type": "execute_result"
    }
   ],
   "source": [
    "denom / 2.0"
   ]
  },
  {
   "cell_type": "markdown",
   "id": "2a6e1fd2",
   "metadata": {},
   "source": [
    "### "
   ]
  },
  {
   "cell_type": "code",
   "execution_count": 16,
   "id": "0ad8bc6b",
   "metadata": {},
   "outputs": [
    {
     "data": {
      "text/plain": [
       "906384830665760.5"
      ]
     },
     "execution_count": 16,
     "metadata": {},
     "output_type": "execute_result"
    }
   ],
   "source": [
    "lis[0][1]/lis[0][0]"
   ]
  },
  {
   "cell_type": "code",
   "execution_count": 17,
   "id": "3700bc08",
   "metadata": {},
   "outputs": [
    {
     "data": {
      "text/plain": [
       "0.7500000000000001"
      ]
     },
     "execution_count": 17,
     "metadata": {},
     "output_type": "execute_result"
    }
   ],
   "source": [
    "lis[1][1]/lis[1][0]"
   ]
  },
  {
   "cell_type": "code",
   "execution_count": 18,
   "id": "3eb36b26",
   "metadata": {},
   "outputs": [
    {
     "data": {
      "text/plain": [
       "0.7500000000000001"
      ]
     },
     "execution_count": 18,
     "metadata": {},
     "output_type": "execute_result"
    }
   ],
   "source": [
    "lis[2][1]/lis[2][0]"
   ]
  },
  {
   "cell_type": "code",
   "execution_count": null,
   "id": "54600edb",
   "metadata": {},
   "outputs": [],
   "source": []
  },
  {
   "cell_type": "code",
   "execution_count": 20,
   "id": "8119d4e7",
   "metadata": {},
   "outputs": [
    {
     "data": {
      "text/plain": [
       "3.500000000000001"
      ]
     },
     "execution_count": 20,
     "metadata": {},
     "output_type": "execute_result"
    }
   ],
   "source": [
    "5.833333333333333e-01/1.666666666666666e-01"
   ]
  },
  {
   "cell_type": "code",
   "execution_count": 23,
   "id": "e577ddac",
   "metadata": {},
   "outputs": [
    {
     "data": {
      "text/plain": [
       "1.6666666666666667"
      ]
     },
     "execution_count": 23,
     "metadata": {},
     "output_type": "execute_result"
    }
   ],
   "source": [
    "5/3"
   ]
  },
  {
   "cell_type": "code",
   "execution_count": 24,
   "id": "2de66e56",
   "metadata": {},
   "outputs": [
    {
     "data": {
      "text/plain": [
       "5.833333333333333"
      ]
     },
     "execution_count": 24,
     "metadata": {},
     "output_type": "execute_result"
    }
   ],
   "source": [
    "35/6"
   ]
  },
  {
   "cell_type": "code",
   "execution_count": 25,
   "id": "3ce683b6",
   "metadata": {},
   "outputs": [
    {
     "data": {
      "text/plain": [
       "0.5833333333333334"
      ]
     },
     "execution_count": 25,
     "metadata": {},
     "output_type": "execute_result"
    }
   ],
   "source": [
    "7/12"
   ]
  },
  {
   "cell_type": "code",
   "execution_count": 34,
   "id": "5a527bf1",
   "metadata": {},
   "outputs": [
    {
     "data": {
      "text/plain": [
       "2.699999999999995"
      ]
     },
     "execution_count": 34,
     "metadata": {},
     "output_type": "execute_result"
    }
   ],
   "source": [
    "4.000000000000002e+00/1.481481481481485e+00"
   ]
  },
  {
   "cell_type": "code",
   "execution_count": 36,
   "id": "02b4b5f4",
   "metadata": {},
   "outputs": [
    {
     "data": {
      "text/plain": [
       "2.7"
      ]
     },
     "execution_count": 36,
     "metadata": {},
     "output_type": "execute_result"
    }
   ],
   "source": [
    "27/10"
   ]
  },
  {
   "cell_type": "code",
   "execution_count": null,
   "id": "8e5542d1",
   "metadata": {},
   "outputs": [],
   "source": []
  }
 ],
 "metadata": {
  "kernelspec": {
   "display_name": "Python 3 (ipykernel)",
   "language": "python",
   "name": "python3"
  },
  "language_info": {
   "codemirror_mode": {
    "name": "ipython",
    "version": 3
   },
   "file_extension": ".py",
   "mimetype": "text/x-python",
   "name": "python",
   "nbconvert_exporter": "python",
   "pygments_lexer": "ipython3",
   "version": "3.10.12"
  }
 },
 "nbformat": 4,
 "nbformat_minor": 5
}
